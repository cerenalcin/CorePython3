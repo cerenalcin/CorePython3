{
 "cells": [
  {
   "cell_type": "code",
   "execution_count": null,
   "metadata": {},
   "outputs": [],
   "source": [
    "# = atama operatörü\n",
    "# == iki değerin birbirine eşit olup olmadigini eder. Eşitae True eşit değilse False değerini döndürür\n",
    "# != eşit değil (cvp eşit değilse True, eşitse False değerini döndürür\n",
    "# > büyüktür\n",
    "# < küçüktür\n",
    "# >= büyük eşittir\n",
    "# <= küçük eşittir"
   ]
  },
  {
   "cell_type": "code",
   "execution_count": 1,
   "metadata": {},
   "outputs": [],
   "source": [
    "a, b, c, d = 5,5,10,4"
   ]
  },
  {
   "cell_type": "code",
   "execution_count": 2,
   "metadata": {},
   "outputs": [
    {
     "name": "stdout",
     "output_type": "stream",
     "text": [
      "True\n",
      "False\n"
     ]
    }
   ],
   "source": [
    "print( a== b)  #True\n",
    "print(a == c) #False"
   ]
  },
  {
   "cell_type": "code",
   "execution_count": 3,
   "metadata": {},
   "outputs": [
    {
     "name": "stdout",
     "output_type": "stream",
     "text": [
      "False\n"
     ]
    }
   ],
   "source": [
    "username= \"admin\"\n",
    "password = \"12345\"\n",
    "print(\"ceren\" == username) #False"
   ]
  },
  {
   "cell_type": "code",
   "execution_count": 4,
   "metadata": {},
   "outputs": [
    {
     "name": "stdout",
     "output_type": "stream",
     "text": [
      "False\n"
     ]
    }
   ],
   "source": [
    "print(a!=b) #false"
   ]
  },
  {
   "cell_type": "code",
   "execution_count": null,
   "metadata": {},
   "outputs": [],
   "source": [
    "print(a !=c ) #True"
   ]
  },
  {
   "cell_type": "code",
   "execution_count": 5,
   "metadata": {},
   "outputs": [
    {
     "name": "stdout",
     "output_type": "stream",
     "text": [
      "False\n"
     ]
    }
   ],
   "source": [
    "print(a>b)"
   ]
  },
  {
   "cell_type": "code",
   "execution_count": 6,
   "metadata": {},
   "outputs": [
    {
     "name": "stdout",
     "output_type": "stream",
     "text": [
      "False\n"
     ]
    }
   ],
   "source": [
    "print(a<b)"
   ]
  },
  {
   "cell_type": "code",
   "execution_count": 7,
   "metadata": {},
   "outputs": [
    {
     "name": "stdout",
     "output_type": "stream",
     "text": [
      "True\n"
     ]
    }
   ],
   "source": [
    "print(a>=b)"
   ]
  },
  {
   "cell_type": "code",
   "execution_count": 8,
   "metadata": {},
   "outputs": [
    {
     "name": "stdout",
     "output_type": "stream",
     "text": [
      "True\n"
     ]
    }
   ],
   "source": [
    "print(a<=b)"
   ]
  },
  {
   "cell_type": "code",
   "execution_count": null,
   "metadata": {},
   "outputs": [],
   "source": [
    "#and operatörü\n",
    "#true and true= true\n",
    "#true and false= false\n",
    "#false and true= false\n",
    "#false and false= false"
   ]
  },
  {
   "cell_type": "code",
   "execution_count": 10,
   "metadata": {},
   "outputs": [
    {
     "name": "stdout",
     "output_type": "stream",
     "text": [
      "False\n"
     ]
    }
   ],
   "source": [
    "x=int(input(\"bir sayi giriniz:\"))\n",
    "print(x>5 and x<100)"
   ]
  },
  {
   "cell_type": "code",
   "execution_count": 11,
   "metadata": {},
   "outputs": [
    {
     "name": "stdout",
     "output_type": "stream",
     "text": [
      "True\n"
     ]
    }
   ],
   "source": [
    "hak =5\n",
    "devamMi=True\n",
    "print( hak>0 and devamMi == True)"
   ]
  },
  {
   "cell_type": "code",
   "execution_count": null,
   "metadata": {},
   "outputs": [],
   "source": [
    "#or operatörü\n",
    "#true or true= true\n",
    "#true or false= true\n",
    "#false or true= true\n",
    "#false or false= false"
   ]
  },
  {
   "cell_type": "code",
   "execution_count": 16,
   "metadata": {},
   "outputs": [
    {
     "name": "stdout",
     "output_type": "stream",
     "text": [
      "False\n"
     ]
    }
   ],
   "source": [
    "x=int(input(\"bir sayi giriniz:\"))\n",
    "print(x>0 or x%2==0)"
   ]
  },
  {
   "cell_type": "code",
   "execution_count": 17,
   "metadata": {},
   "outputs": [
    {
     "name": "stdout",
     "output_type": "stream",
     "text": [
      "True\n"
     ]
    }
   ],
   "source": [
    "print(3>1 and 3>2)"
   ]
  },
  {
   "cell_type": "code",
   "execution_count": 18,
   "metadata": {},
   "outputs": [
    {
     "name": "stdout",
     "output_type": "stream",
     "text": [
      "True\n"
     ]
    }
   ],
   "source": [
    "print(3>1 or 3>2)"
   ]
  },
  {
   "cell_type": "code",
   "execution_count": null,
   "metadata": {},
   "outputs": [],
   "source": [
    "#not operatörğ\n",
    "#true değirini False\n",
    "#false için true döndürür"
   ]
  },
  {
   "cell_type": "code",
   "execution_count": 19,
   "metadata": {},
   "outputs": [
    {
     "name": "stdout",
     "output_type": "stream",
     "text": [
      "False\n"
     ]
    }
   ],
   "source": [
    "print(not(True))"
   ]
  },
  {
   "cell_type": "code",
   "execution_count": null,
   "metadata": {},
   "outputs": [],
   "source": [
    "#KARAR YAPILARI\n",
    "#eğer if bloğu doğruysa diğer durumlara bakılmaz ve if bloğu altındaki kodlar çalışır\n",
    "#else yapısının kullanılması zorunlu değildir olsa da olur olmasa da olur\n",
    "#elif yapısının kullanılması zorunlu değildir olsa da olur olmasada olur\n",
    "#else yapısı if ve varsa elif yapısının false olduğu durumda ikinci nihai durum olarak çalışır\n",
    "#elif yapısına birden çok farklı koşullardan doğacak durumların kontrolünü sağlamak için kullanırız\n"
   ]
  },
  {
   "cell_type": "code",
   "execution_count": null,
   "metadata": {},
   "outputs": [],
   "source": [
    "if koşul:\n",
    "elif koşul2:\n",
    "else:"
   ]
  },
  {
   "cell_type": "code",
   "execution_count": 23,
   "metadata": {},
   "outputs": [
    {
     "name": "stdout",
     "output_type": "stream",
     "text": [
      "Prgram sonlandı\n"
     ]
    }
   ],
   "source": [
    "if 0>1:\n",
    "    print(\"If blogu çalıştı\")\n",
    "print(\"Program sonlandı\")"
   ]
  },
  {
   "cell_type": "code",
   "execution_count": 27,
   "metadata": {},
   "outputs": [
    {
     "name": "stdout",
     "output_type": "stream",
     "text": [
      "sayilar  biribirine eşittir\n"
     ]
    }
   ],
   "source": [
    "sayi1=int(input(\"birinci sayiyi giriniz:\"))\n",
    "sayi2=int(input(\"ikinci sayiyiyi giriniz\"))\n",
    "if sayi1>sayi2:\n",
    "    print(\"birinci sayi ikinci sayidan büyüktür.\")\n",
    "elif sayi1==sayi2:\n",
    "    print(\"sayilar  biribirine eşittir\")\n",
    "else:\n",
    "    print(\"ikinci sayş 1. sayidan büyüktür\")"
   ]
  },
  {
   "cell_type": "code",
   "execution_count": 31,
   "metadata": {},
   "outputs": [
    {
     "name": "stdout",
     "output_type": "stream",
     "text": [
      "batmani seçtiniz\n"
     ]
    }
   ],
   "source": [
    "superKahraman=input(\"bir superkahraman giriniz\")\n",
    "if superKahraman == \"batman\":\n",
    "    print(\"batmani seçtiniz\")\n",
    "elif superKahraman == \"superman\":\n",
    "    print(\"supermani seçtiniz\")\n",
    "elif superKahraman == \"ironman\":\n",
    "    print(\"ironmeni seçtiniz\")\n",
    "else: \n",
    "    print(\"bizde böyle bir super kahraman bulunmamaktadır\")\n"
   ]
  },
  {
   "cell_type": "code",
   "execution_count": 34,
   "metadata": {},
   "outputs": [
    {
     "name": "stdout",
     "output_type": "stream",
     "text": [
      "10 sayısı 20 sayısından küçükütr ve 20 sayısı 30 sayısından küçüktür.\n"
     ]
    }
   ],
   "source": [
    "a=10\n",
    "b=20\n",
    "c=30\n",
    "\n",
    "if a>b and b>c:\n",
    "    print(f\"{a} sayısı {b} sayısından büüyktür ve {b} sayısı {c} sayısından büyüktür.\")\n",
    "if a<b and b<c:\n",
    "    print(f\"{a} sayısı {b} sayısından küçükütr ve {b} sayısı {c} sayısından küçüktür.\")\n",
    "else:\n",
    "    print(\"bu koşullar tutmadı\")"
   ]
  },
  {
   "cell_type": "code",
   "execution_count": 35,
   "metadata": {},
   "outputs": [
    {
     "name": "stdout",
     "output_type": "stream",
     "text": [
      "yetgen mezunusunuz. #YetGenBitmez diyerek YetGen'e dikeylerle devam ediyorsun\n"
     ]
    }
   ],
   "source": [
    "yetgenMezunu =True\n",
    "if yetgenMezunu:\n",
    "    print(\"yetgen mezunusunuz. #YetGenBitmez diyerek YetGen'e dikeylerle devam ediyorsun\")\n",
    "else:\n",
    "    print(\"Yetgen mezunu değlsin acilen ytegene katılmalısın\")"
   ]
  },
  {
   "cell_type": "code",
   "execution_count": 36,
   "metadata": {},
   "outputs": [
    {
     "name": "stdout",
     "output_type": "stream",
     "text": [
      "3. sayi 5 den büyüktür\n",
      "4.sayi 10dan büyüktür\n"
     ]
    }
   ],
   "source": [
    "sayi3=10\n",
    "sayi4=20\n",
    "if sayi3>5:\n",
    "    print(\"3. sayi 5 den büyüktür\")\n",
    "    if sayi4>10:\n",
    "        print(\"4.sayi 10dan büyüktür\")\n",
    "    else:\n",
    "        print(\"ikinci else\")\n",
    "else:\n",
    "    print(\"birinci else\")"
   ]
  },
  {
   "cell_type": "code",
   "execution_count": 37,
   "metadata": {},
   "outputs": [
    {
     "name": "stdout",
     "output_type": "stream",
     "text": [
      "yokmuş\n"
     ]
    }
   ],
   "source": [
    "isim= \"ceren\"\n",
    "if \"alcin\" in isim: #isimde alcin var mi? in var mı demek\n",
    "    print(\"varmış\")\n",
    "else:\n",
    "    print(\"yokmuş\")"
   ]
  },
  {
   "cell_type": "code",
   "execution_count": 39,
   "metadata": {},
   "outputs": [
    {
     "name": "stdout",
     "output_type": "stream",
     "text": [
      "55 sayısı tektir\n"
     ]
    }
   ],
   "source": [
    "sayi= int(input(\"bir sayi giriniz\"))\n",
    "if sayi%2==0:\n",
    "    print(f\"{sayi} sayısı çifttir\")\n",
    "else:\n",
    "    print(f\"{sayi} sayısı tektir\")"
   ]
  },
  {
   "cell_type": "code",
   "execution_count": null,
   "metadata": {},
   "outputs": [],
   "source": [
    "#in operatörğ\n",
    "#belirtilen bir değerin dizi, merin,liste veya demet gibi bir dizinin ögesi olup olmadığını kontro eder. True ya da dalse değerini döndürür"
   ]
  },
  {
   "cell_type": "code",
   "execution_count": 40,
   "metadata": {},
   "outputs": [
    {
     "data": {
      "text/plain": [
       "False"
      ]
     },
     "execution_count": 40,
     "metadata": {},
     "output_type": "execute_result"
    }
   ],
   "source": [
    "string=\"YetGen\"\n",
    "\"p\" in string"
   ]
  },
  {
   "cell_type": "code",
   "execution_count": 41,
   "metadata": {},
   "outputs": [
    {
     "data": {
      "text/plain": [
       "True"
      ]
     },
     "execution_count": 41,
     "metadata": {},
     "output_type": "execute_result"
    }
   ],
   "source": [
    "\"Y\" in string"
   ]
  },
  {
   "cell_type": "code",
   "execution_count": null,
   "metadata": {},
   "outputs": [],
   "source": [
    "#Döngüler\n",
    "#döngüler temel olarak verilen koşullar karşılanana kadar devam eden tekrar eden bir süreçtir\n",
    "#döngünün koşulu her zaman doğruysa döngü sonsuza kadar devam eder. Hangisini \"sonsuz döngü\" denir. Bu tür döngüler genellikle while döngüaünde rastlarız\n",
    "#eğer bir döngünün koşulu baştan yanlışsa bu nedenle döngünün çalışmasına izin vermez. Sonra buna \"sıfır açma döndüsü\" denir."
   ]
  },
  {
   "cell_type": "code",
   "execution_count": null,
   "metadata": {},
   "outputs": [],
   "source": [
    "#For döngüsü\n",
    "#for döngüsü: listelerin, dmeetlerin, stringlerin ve hatta sözlüklerin üzerinde dolaşmamızı sağlayan bir döngü türüdür. Yapısı şu şekildedir.\n",
    "for eleman in veriYapisi:\n",
    "    Yapılacak işlmeler\n"
   ]
  },
  {
   "cell_type": "code",
   "execution_count": 42,
   "metadata": {},
   "outputs": [
    {
     "name": "stdout",
     "output_type": "stream",
     "text": [
      "1\n",
      "2\n",
      "3\n",
      "4\n",
      "5\n"
     ]
    }
   ],
   "source": [
    "liste= [1,2,3,4,5]\n",
    "for i in liste:\n",
    "    print(i)"
   ]
  },
  {
   "cell_type": "code",
   "execution_count": 43,
   "metadata": {},
   "outputs": [
    {
     "name": "stdout",
     "output_type": "stream",
     "text": [
      "1\n",
      "4\n",
      "9\n",
      "16\n",
      "25\n"
     ]
    }
   ],
   "source": [
    "for i in liste:\n",
    "    print(i**2)"
   ]
  },
  {
   "cell_type": "code",
   "execution_count": 46,
   "metadata": {},
   "outputs": [
    {
     "name": "stdout",
     "output_type": "stream",
     "text": [
      "Y\n",
      "e\n",
      "t\n",
      "G\n",
      "e\n",
      "n\n",
      " \n",
      "J\n",
      "u\n",
      "m\n",
      "p\n"
     ]
    }
   ],
   "source": [
    "string= \"YetGen Jump\"\n",
    "for string1 in string:\n",
    "    print(string1)"
   ]
  },
  {
   "cell_type": "code",
   "execution_count": 48,
   "metadata": {},
   "outputs": [
    {
     "name": "stdout",
     "output_type": "stream",
     "text": [
      "1\n",
      "4\n",
      "9\n",
      "16\n",
      "25\n"
     ]
    }
   ],
   "source": [
    "sayilar= \"12345\"\n",
    "for x in sayilar:\n",
    "    print(int(x)*int(x))"
   ]
  },
  {
   "cell_type": "code",
   "execution_count": null,
   "metadata": {},
   "outputs": [],
   "source": [
    "#While döngüleri\n",
    "#while döngüleri belli bir koşul sağlandığı sürece blogundaki işlemleri gerçekleştirmeye devam eder. while döngüleirnin sona ermesi için koşul durumunun bir süre sonra false olması gereklidir\n",
    "#while koşul:\n",
    "#   yapılacak işlemler"
   ]
  },
  {
   "cell_type": "code",
   "execution_count": 50,
   "metadata": {},
   "outputs": [
    {
     "name": "stdout",
     "output_type": "stream",
     "text": [
      "toplam: 55\n"
     ]
    }
   ],
   "source": [
    "sum=0\n",
    "i=1\n",
    "while i<11:\n",
    "    sum+=i #sum=sum+i\n",
    "    i+=1\n",
    "print(\"toplam:\", sum)\n"
   ]
  },
  {
   "cell_type": "code",
   "execution_count": null,
   "metadata": {},
   "outputs": [],
   "source": [
    "#Range fonksiyonu\n",
    "#başlangıç bitiş ve artış fonksiyonudur"
   ]
  },
  {
   "cell_type": "code",
   "execution_count": 51,
   "metadata": {},
   "outputs": [
    {
     "name": "stdout",
     "output_type": "stream",
     "text": [
      "range(1, 10, 2)\n"
     ]
    }
   ],
   "source": [
    "print(range(1,10,2))"
   ]
  },
  {
   "cell_type": "code",
   "execution_count": 52,
   "metadata": {},
   "outputs": [
    {
     "name": "stdout",
     "output_type": "stream",
     "text": [
      "1\n",
      "3\n",
      "5\n",
      "7\n",
      "9\n"
     ]
    }
   ],
   "source": [
    "for x in range(1,10,2):\n",
    "    print(x)"
   ]
  },
  {
   "cell_type": "code",
   "execution_count": 53,
   "metadata": {},
   "outputs": [
    {
     "name": "stdout",
     "output_type": "stream",
     "text": [
      "0\n",
      "1\n",
      "2\n",
      "3\n",
      "4\n"
     ]
    }
   ],
   "source": [
    "for x in range(5):\n",
    "    print(x)"
   ]
  },
  {
   "cell_type": "code",
   "execution_count": 56,
   "metadata": {},
   "outputs": [
    {
     "name": "stdout",
     "output_type": "stream",
     "text": [
      "0\n",
      "10\n",
      "20\n",
      "30\n",
      "40\n",
      "50\n",
      "60\n",
      "70\n",
      "80\n",
      "90\n",
      "100\n"
     ]
    }
   ],
   "source": [
    "for x in range(0,101,10):\n",
    "    print(x)"
   ]
  },
  {
   "cell_type": "code",
   "execution_count": null,
   "metadata": {},
   "outputs": [],
   "source": [
    "#Break\n",
    "#break ifadesi döngü sonlandırır\n",
    "#continue\n",
    "#continue ifadesi döngünün sonraki adımına geçer"
   ]
  },
  {
   "cell_type": "code",
   "execution_count": 57,
   "metadata": {},
   "outputs": [
    {
     "name": "stdout",
     "output_type": "stream",
     "text": [
      "0\n",
      "1\n",
      "2\n",
      "3\n",
      "4\n"
     ]
    }
   ],
   "source": [
    "i=0\n",
    "while i<10:\n",
    "    if(i==5):\n",
    "        break\n",
    "    else:\n",
    "        print(i)\n",
    "    i+=1"
   ]
  },
  {
   "cell_type": "code",
   "execution_count": 58,
   "metadata": {},
   "outputs": [
    {
     "name": "stdout",
     "output_type": "stream",
     "text": [
      "uygulamadan çıkmak için q tuşuna basınız\n",
      "Yasiniz: 23\n",
      "uygulamadan çıkmak için q tuşuna basınız\n",
      "Yasiniz: 24\n",
      "uygulamadan çıkmak için q tuşuna basınız\n",
      "Yasiniz: 25\n",
      "uygulamadan çıkmak için q tuşuna basınız\n"
     ]
    }
   ],
   "source": [
    "while True:\n",
    "    print(\"uygulamadan çıkmak için q tuşuna basınız\")\n",
    "    yas= input(\"yas\")\n",
    "    if(yas==\"q\"):\n",
    "        break\n",
    "    else:\n",
    "        print(\"Yasiniz:\", yas)\n"
   ]
  },
  {
   "cell_type": "code",
   "execution_count": 59,
   "metadata": {},
   "outputs": [
    {
     "name": "stdout",
     "output_type": "stream",
     "text": [
      "0\n",
      "1\n",
      "2\n",
      "3\n",
      "4\n",
      "6\n"
     ]
    }
   ],
   "source": [
    "for i in range(7):\n",
    "    if i ==5:\n",
    "        continue\n",
    "    print(i)"
   ]
  },
  {
   "cell_type": "code",
   "execution_count": null,
   "metadata": {},
   "outputs": [],
   "source": []
  }
 ],
 "metadata": {
  "kernelspec": {
   "display_name": "Python 3",
   "language": "python",
   "name": "python3"
  },
  "language_info": {
   "codemirror_mode": {
    "name": "ipython",
    "version": 3
   },
   "file_extension": ".py",
   "mimetype": "text/x-python",
   "name": "python",
   "nbconvert_exporter": "python",
   "pygments_lexer": "ipython3",
   "version": "3.12.3"
  }
 },
 "nbformat": 4,
 "nbformat_minor": 2
}
